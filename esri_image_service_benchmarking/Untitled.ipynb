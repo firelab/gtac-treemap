{
 "cells": [
  {
   "cell_type": "code",
   "execution_count": 68,
   "id": "31e6a41d",
   "metadata": {},
   "outputs": [
    {
     "name": "stdout",
     "output_type": "stream",
     "text": [
      "done\n"
     ]
    }
   ],
   "source": [
    "import os,sys,requests,numpy,time,pandas,ssl,scipy\n",
    "import matplotlib.pyplot as plt\n",
    "import urllib.request\n",
    "ssl._create_default_https_context = ssl._create_unverified_context\n",
    "def getRandomN(n,min,max):return numpy.sort((max-min)*numpy.random.random_sample(n)+min)\n",
    "print('done')"
   ]
  },
  {
   "cell_type": "code",
   "execution_count": 98,
   "id": "37702420",
   "metadata": {},
   "outputs": [],
   "source": [
    "image_services = {'MosaicMRF_Albers':'https://ntcfsxopsx1284:6443/arcgis/rest/services/Utilities2/TM2016_CONUS_StandHt/ImageServer',\n",
    "'MRF_Albers':'https://ntcfsxopsx1284:6443/arcgis/rest/services/Utilities2/TreeMap2016_CONUS_StandHt_mrf/ImageServer',\n",
    "'MosaicMRF_WebMercator':'https://ntcfsxopsx1284:6443/arcgis/rest/services/Utilities2/TM2016_CONUS_StandHt_WMmosaic/ImageServer',\n",
    "'MRF_WebMercator':'https://ntcfsxopsx1284:6443/arcgis/rest/services/Utilities2/TreeMap2016_CONUS_StandHt_WM_mrf/ImageServer'\n",
    "}\n",
    "# image_services = {'LCMS_Albers':'https://apps.fs.usda.gov/fsgisx01/rest/services/RDW_LandscapeAndWildlife/LCMS_CONUS_Most_Recent_Year_Of_Fast_Loss/ImageServer',\n",
    "#                   'LCMS_WM':'https://apps.fs.usda.gov/fsgisx01/rest/services/RDW_LandscapeAndWildlife/LCMS_CONUS_Annual_Landcover/ImageServer'}\n",
    "\n",
    "image_services = {'LCMS_Albers':'https://apps.fs.usda.gov/fsgisx01/rest/services/Utilities2/LCMS_CONUS_Most_Recent_Year_of_Fast_Loss/ImageServer',\n",
    "                  'LCMS_WebMercator':'https://apps.fs.usda.gov/fsgisx01/rest/services/RDW_LandscapeAndWildlife/LCMS_CONUS_Most_Recent_Year_Of_Fast_Loss/ImageServer'}\n",
    "service_bounds = [-1.42463587702E7,2604056.207800001,-7264068.770199999,6736796.207800001]\n",
    "\n",
    "projections = {\n",
    "    'Albers':102008,\n",
    "    'WM':3857\n",
    "}\n",
    "nTests = 10\n",
    "exportImage_output_folder = r'X:\\03_Outputs\\03_Image_Service_Benchmarking\\exportImage'\n",
    "exportImageTable = os.path.join(exportImage_output_folder,'Treemap_ExportImage_Benchmarking_Table_{}.csv'.format(nTests))"
   ]
  },
  {
   "cell_type": "code",
   "execution_count": 101,
   "id": "11ba53f3",
   "metadata": {},
   "outputs": [
    {
     "name": "stdout",
     "output_type": "stream",
     "text": [
      "https://apps.fs.usda.gov/fsgisx01/rest/services/Utilities2/LCMS_CONUS_Most_Recent_Year_of_Fast_Loss/ImageServer/computeHistograms?f=json&geometryType=esriGeometryEnvelope&geometry=%7B%22spatialReference%22%3A%7B%22latestWkid%22%3A3857%2C%22wkid%22%3A102100%7D%2C%22xmin%22%3A-12362817.592186779%2C%22ymin%22%3A5948665.791824907%2C%22xmax%22%3A-12262817.592186779%2C%22ymax%22%3A6048665.791824907%7D&pixelSize=%7B%22x%22%3A30%2C%22y%22%3A30%2C%22spatialReference%22%3A%7B%22latestWkid%22%3A3857%2C%22wkid%22%3A102100%7D%7D\n",
      "LCMS_Albers [0, 0, 0, 0, 0, 0, 0, 0, 0, 0, 0, 0, 0, 0, 0, 28665, 872, 3040, 3621, 4711, 3335, 1979, 4523, 3018, 8360, 2186, 19217, 7316, 4305, 5220, 4793, 4708, 8396, 3840, 1892, 4589, 2428, 5272, 1518, 1963, 1306, 5142, 5661, 1620, 1000, 1428, 1500, 7634, 2415, 2128, 9314, 40288, 160455] 0.3898351192474365\n",
      "https://apps.fs.usda.gov/fsgisx01/rest/services/RDW_LandscapeAndWildlife/LCMS_CONUS_Most_Recent_Year_Of_Fast_Loss/ImageServer/computeHistograms?f=json&geometryType=esriGeometryEnvelope&geometry=%7B%22spatialReference%22%3A%7B%22latestWkid%22%3A3857%2C%22wkid%22%3A102100%7D%2C%22xmin%22%3A-12362817.592186779%2C%22ymin%22%3A5948665.791824907%2C%22xmax%22%3A-12262817.592186779%2C%22ymax%22%3A6048665.791824907%7D&pixelSize=%7B%22x%22%3A30%2C%22y%22%3A30%2C%22spatialReference%22%3A%7B%22latestWkid%22%3A3857%2C%22wkid%22%3A102100%7D%7D\n",
      "LCMS_WebMercator [0, 0, 0, 0, 0, 0, 0, 0, 0, 0, 0, 0, 0, 0, 0, 46429, 1297, 5486, 5734, 5738, 5909, 3292, 5486, 5315, 14936, 3262, 35625, 11924, 7556, 10556, 8784, 6965, 17747, 6854, 1864, 5046, 3497, 10091, 1709, 3403, 2459, 10265, 7380, 1559, 1471, 1981, 2426, 13179, 2411, 2306, 11930, 61259, 219432] 0.9012422561645508\n",
      "[(1985, 0, 0), (1986, 0, 0), (1987, 0, 0), (1988, 0, 0), (1989, 0, 0), (1990, 0, 0), (1991, 0, 0), (1992, 0, 0), (1993, 0, 0), (1994, 0, 0), (1995, 0, 0), (1996, 0, 0), (1997, 0, 0), (1998, 0, 0), (1999, 0, 0), (2000, 28665, 46429), (2001, 872, 1297), (2002, 3040, 5486), (2003, 3621, 5734), (2004, 4711, 5738), (2005, 3335, 5909), (2006, 1979, 3292), (2007, 4523, 5486), (2008, 3018, 5315), (2009, 8360, 14936), (2010, 2186, 3262), (2011, 19217, 35625), (2012, 7316, 11924), (2013, 4305, 7556), (2014, 5220, 10556), (2015, 4793, 8784), (2016, 4708, 6965), (2017, 8396, 17747), (2018, 3840, 6854), (2019, 1892, 1864), (2020, 4589, 5046), (2021, 2428, 3497), (2022, 5272, 10091)]\n",
      "\n",
      "https://apps.fs.usda.gov/fsgisx01/rest/services/Utilities2/LCMS_CONUS_Most_Recent_Year_of_Fast_Loss/ImageServer/computeHistograms?f=json&geometryType=esriGeometryEnvelope&geometry=%7B%22spatialReference%22%3A%7B%22latestWkid%22%3A3857%2C%22wkid%22%3A102100%7D%2C%22xmin%22%3A-10904893.992636899%2C%22ymin%22%3A3177258.6397474175%2C%22xmax%22%3A-10804893.992636899%2C%22ymax%22%3A3277258.6397474175%7D&pixelSize=%7B%22x%22%3A30%2C%22y%22%3A30%2C%22spatialReference%22%3A%7B%22latestWkid%22%3A3857%2C%22wkid%22%3A102100%7D%7D\n",
      "LCMS_Albers [0, 0, 0, 0, 0, 0, 0, 0, 0, 0, 0, 0, 0, 0, 0, 7045, 22558, 3957, 8402, 2321, 2220, 2104, 9981, 8054, 12219, 4801, 15342, 5872, 8289, 3284, 22131, 7244, 5319, 4673, 4263, 12614, 12404, 3614, 25147, 96347, 3708, 84928, 16242, 11870, 10295, 8537, 12049, 16999, 15241, 12565, 16672, 11773, 770206] 0.4135153293609619\n",
      "https://apps.fs.usda.gov/fsgisx01/rest/services/RDW_LandscapeAndWildlife/LCMS_CONUS_Most_Recent_Year_Of_Fast_Loss/ImageServer/computeHistograms?f=json&geometryType=esriGeometryEnvelope&geometry=%7B%22spatialReference%22%3A%7B%22latestWkid%22%3A3857%2C%22wkid%22%3A102100%7D%2C%22xmin%22%3A-10904893.992636899%2C%22ymin%22%3A3177258.6397474175%2C%22xmax%22%3A-10804893.992636899%2C%22ymax%22%3A3277258.6397474175%7D&pixelSize=%7B%22x%22%3A30%2C%22y%22%3A30%2C%22spatialReference%22%3A%7B%22latestWkid%22%3A3857%2C%22wkid%22%3A102100%7D%7D\n",
      "LCMS_WebMercator [0, 0, 0, 0, 0, 0, 0, 0, 0, 0, 0, 0, 0, 0, 0, 8948, 28667, 4895, 10356, 2911, 2797, 2664, 12572, 10099, 14968, 5622, 17861, 7389, 10424, 4118, 27561, 8984, 6323, 6003, 5262, 16054, 15512, 4639, 31236, 117102, 4694, 103056, 20393, 14518, 13070, 10632, 15309, 21153, 19174, 15936, 21091, 14406, 941143] 0.8946328163146973\n",
      "[(1985, 0, 0), (1986, 0, 0), (1987, 0, 0), (1988, 0, 0), (1989, 0, 0), (1990, 0, 0), (1991, 0, 0), (1992, 0, 0), (1993, 0, 0), (1994, 0, 0), (1995, 0, 0), (1996, 0, 0), (1997, 0, 0), (1998, 0, 0), (1999, 0, 0), (2000, 7045, 8948), (2001, 22558, 28667), (2002, 3957, 4895), (2003, 8402, 10356), (2004, 2321, 2911), (2005, 2220, 2797), (2006, 2104, 2664), (2007, 9981, 12572), (2008, 8054, 10099), (2009, 12219, 14968), (2010, 4801, 5622), (2011, 15342, 17861), (2012, 5872, 7389), (2013, 8289, 10424), (2014, 3284, 4118), (2015, 22131, 27561), (2016, 7244, 8984), (2017, 5319, 6323), (2018, 4673, 6003), (2019, 4263, 5262), (2020, 12614, 16054), (2021, 12404, 15512), (2022, 3614, 4639)]\n",
      "\n",
      "https://apps.fs.usda.gov/fsgisx01/rest/services/Utilities2/LCMS_CONUS_Most_Recent_Year_of_Fast_Loss/ImageServer/computeHistograms?f=json&geometryType=esriGeometryEnvelope&geometry=%7B%22spatialReference%22%3A%7B%22latestWkid%22%3A3857%2C%22wkid%22%3A102100%7D%2C%22xmin%22%3A-8599584.397913683%2C%22ymin%22%3A3752235.9960073256%2C%22xmax%22%3A-8499584.397913683%2C%22ymax%22%3A3852235.9960073256%7D&pixelSize=%7B%22x%22%3A30%2C%22y%22%3A30%2C%22spatialReference%22%3A%7B%22latestWkid%22%3A3857%2C%22wkid%22%3A102100%7D%7D\n",
      "LCMS_Albers [0, 0, 0, 0, 0, 0, 0, 0, 0, 0, 0, 0, 0, 0, 0, 0, 0, 0, 0, 0, 0, 0, 0, 0, 0, 0, 0, 0, 0, 0, 0, 0, 0, 0, 0, 0, 0, 0, 0, 0, 0, 0, 0, 0, 0, 0, 0, 0, 0, 0, 0, 0, 0, 0, 0, 0, 0, 0, 0, 0, 0, 0, 0, 0, 0, 0, 0, 0, 0, 0, 0, 0, 0, 0, 0, 0, 0, 0, 0, 0, 0, 0, 0, 0, 0, 0, 0, 0, 0, 0, 0, 0, 0, 0, 0, 0, 0, 0, 0, 0, 0, 0, 0, 0, 0, 0, 0, 0, 0, 0, 0, 0, 0, 0, 0, 0, 0, 0, 0, 0, 0, 0, 0, 0, 0, 0, 0, 0, 0, 0, 0, 0, 0, 0, 0, 0, 0, 0, 0, 0, 0, 0, 0, 0, 0, 0, 0, 0, 0, 0, 0, 0, 0, 0, 0, 0, 0, 0, 0, 0, 0, 0, 0, 0, 0, 0, 0, 0, 0, 0, 0, 0, 0, 0, 0, 0, 0, 0, 0, 0, 0, 0, 0, 0, 0, 0, 0, 0, 0, 0, 0, 0, 0, 0, 0, 0, 0, 0, 0, 0, 0, 0, 0, 0, 0, 0, 0, 0, 0, 0, 0, 0, 0, 0, 0, 0, 0, 0, 0, 0, 0, 0, 0, 0, 0, 0, 0, 0, 0, 0, 0, 0, 0, 0, 0, 0, 0, 0, 0, 0, 0, 0, 0, 0, 0, 0, 0, 0, 0, 0, 0, 0, 0, 0, 0, 0] 0.38692307472229004\n",
      "https://apps.fs.usda.gov/fsgisx01/rest/services/RDW_LandscapeAndWildlife/LCMS_CONUS_Most_Recent_Year_Of_Fast_Loss/ImageServer/computeHistograms?f=json&geometryType=esriGeometryEnvelope&geometry=%7B%22spatialReference%22%3A%7B%22latestWkid%22%3A3857%2C%22wkid%22%3A102100%7D%2C%22xmin%22%3A-8599584.397913683%2C%22ymin%22%3A3752235.9960073256%2C%22xmax%22%3A-8499584.397913683%2C%22ymax%22%3A3852235.9960073256%7D&pixelSize=%7B%22x%22%3A30%2C%22y%22%3A30%2C%22spatialReference%22%3A%7B%22latestWkid%22%3A3857%2C%22wkid%22%3A102100%7D%7D\n",
      "LCMS_WebMercator [0, 0, 0, 0, 0, 0, 0, 0, 0, 0, 0, 0, 0, 0, 0, 0, 0, 0, 0, 0, 0, 0, 0, 0, 0, 0, 0, 0, 0, 0, 0, 0, 0, 0, 0, 0, 0, 0, 0, 0, 0, 0, 0, 0, 0, 0, 0, 0, 0, 0, 0, 0, 0, 0, 0, 0, 0, 0, 0, 0, 0, 0, 0, 0, 0, 0, 0, 0, 0, 0, 0, 0, 0, 0, 0, 0, 0, 0, 0, 0, 0, 0, 0, 0, 0, 0, 0, 0, 0, 0, 0, 0, 0, 0, 0, 0, 0, 0, 0, 0, 0, 0, 0, 0, 0, 0, 0, 0, 0, 0, 0, 0, 0, 0, 0, 0, 0, 0, 0, 0, 0, 0, 0, 0, 0, 0, 0, 0, 0, 0, 0, 0, 0, 0, 0, 0, 0, 0, 0, 0, 0, 0, 0, 0, 0, 0, 0, 0, 0, 0, 0, 0, 0, 0, 0, 0, 0, 0, 0, 0, 0, 0, 0, 0, 0, 0, 0, 0, 0, 0, 0, 0, 0, 0, 0, 0, 0, 0, 0, 0, 0, 0, 0, 0, 0, 0, 0, 0, 0, 0, 0, 0, 0, 0, 0, 0, 0, 0, 0, 0, 0, 0, 0, 0, 0, 0, 0, 0, 0, 0, 0, 0, 0, 0, 0, 0, 0, 0, 0, 0, 0, 0, 0, 0, 0, 0, 0, 0, 0, 0, 0, 0, 0, 0, 0, 0, 0, 0, 0, 0, 0, 0, 0, 0, 0, 0, 0, 0, 0, 0, 0, 0, 0, 0, 0, 0] 0.8280632495880127\n",
      "[(1985, 0, 0), (1986, 0, 0), (1987, 0, 0), (1988, 0, 0), (1989, 0, 0), (1990, 0, 0), (1991, 0, 0), (1992, 0, 0), (1993, 0, 0), (1994, 0, 0), (1995, 0, 0), (1996, 0, 0), (1997, 0, 0), (1998, 0, 0), (1999, 0, 0), (2000, 0, 0), (2001, 0, 0), (2002, 0, 0), (2003, 0, 0), (2004, 0, 0), (2005, 0, 0), (2006, 0, 0), (2007, 0, 0), (2008, 0, 0), (2009, 0, 0), (2010, 0, 0), (2011, 0, 0), (2012, 0, 0), (2013, 0, 0), (2014, 0, 0), (2015, 0, 0), (2016, 0, 0), (2017, 0, 0), (2018, 0, 0), (2019, 0, 0), (2020, 0, 0), (2021, 0, 0), (2022, 0, 0)]\n",
      "\n",
      "https://apps.fs.usda.gov/fsgisx01/rest/services/Utilities2/LCMS_CONUS_Most_Recent_Year_of_Fast_Loss/ImageServer/computeHistograms?f=json&geometryType=esriGeometryEnvelope&geometry=%7B%22spatialReference%22%3A%7B%22latestWkid%22%3A3857%2C%22wkid%22%3A102100%7D%2C%22xmin%22%3A-13737567.837723805%2C%22ymin%22%3A3100263.912206079%2C%22xmax%22%3A-13637567.837723805%2C%22ymax%22%3A3200263.912206079%7D&pixelSize=%7B%22x%22%3A30%2C%22y%22%3A30%2C%22spatialReference%22%3A%7B%22latestWkid%22%3A3857%2C%22wkid%22%3A102100%7D%7D\n",
      "LCMS_Albers [0, 0, 0, 0, 0, 0, 0, 0, 0, 0, 0, 0, 0, 0, 0, 0, 0, 0, 0, 0, 0, 0, 0, 0, 0, 0, 0, 0, 0, 0, 0, 0, 0, 0, 0, 0, 0, 0, 0, 0, 0, 0, 0, 0, 0, 0, 0, 0, 0, 0, 0, 0, 0, 0, 0, 0, 0, 0, 0, 0, 0, 0, 0, 0, 0, 0, 0, 0, 0, 0, 0, 0, 0, 0, 0, 0, 0, 0, 0, 0, 0, 0, 0, 0, 0, 0, 0, 0, 0, 0, 0, 0, 0, 0, 0, 0, 0, 0, 0, 0, 0, 0, 0, 0, 0, 0, 0, 0, 0, 0, 0, 0, 0, 0, 0, 0, 0, 0, 0, 0, 0, 0, 0, 0, 0, 0, 0, 0, 0, 0, 0, 0, 0, 0, 0, 0, 0, 0, 0, 0, 0, 0, 0, 0, 0, 0, 0, 0, 0, 0, 0, 0, 0, 0, 0, 0, 0, 0, 0, 0, 0, 0, 0, 0, 0, 0, 0, 0, 0, 0, 0, 0, 0, 0, 0, 0, 0, 0, 0, 0, 0, 0, 0, 0, 0, 0, 0, 0, 0, 0, 0, 0, 0, 0, 0, 0, 0, 0, 0, 0, 0, 0, 0, 0, 0, 0, 0, 0, 0, 0, 0, 0, 0, 0, 0, 0, 0, 0, 0, 0, 0, 0, 0, 0, 0, 0, 0, 0, 0, 0, 0, 0, 0, 0, 0, 0, 0, 0, 0, 0, 0, 0, 0, 0, 0, 0, 0, 0, 0, 0, 0, 0, 0, 0, 0, 0] 0.2522246837615967\n",
      "https://apps.fs.usda.gov/fsgisx01/rest/services/RDW_LandscapeAndWildlife/LCMS_CONUS_Most_Recent_Year_Of_Fast_Loss/ImageServer/computeHistograms?f=json&geometryType=esriGeometryEnvelope&geometry=%7B%22spatialReference%22%3A%7B%22latestWkid%22%3A3857%2C%22wkid%22%3A102100%7D%2C%22xmin%22%3A-13737567.837723805%2C%22ymin%22%3A3100263.912206079%2C%22xmax%22%3A-13637567.837723805%2C%22ymax%22%3A3200263.912206079%7D&pixelSize=%7B%22x%22%3A30%2C%22y%22%3A30%2C%22spatialReference%22%3A%7B%22latestWkid%22%3A3857%2C%22wkid%22%3A102100%7D%7D\n",
      "LCMS_WebMercator [0, 0, 0, 0, 0, 0, 0, 0, 0, 0, 0, 0, 0, 0, 0, 0, 0, 0, 0, 0, 0, 0, 0, 0, 0, 0, 0, 0, 0, 0, 0, 0, 0, 0, 0, 0, 0, 0, 0, 0, 0, 0, 0, 0, 0, 0, 0, 0, 0, 0, 0, 0, 0, 0, 0, 0, 0, 0, 0, 0, 0, 0, 0, 0, 0, 0, 0, 0, 0, 0, 0, 0, 0, 0, 0, 0, 0, 0, 0, 0, 0, 0, 0, 0, 0, 0, 0, 0, 0, 0, 0, 0, 0, 0, 0, 0, 0, 0, 0, 0, 0, 0, 0, 0, 0, 0, 0, 0, 0, 0, 0, 0, 0, 0, 0, 0, 0, 0, 0, 0, 0, 0, 0, 0, 0, 0, 0, 0, 0, 0, 0, 0, 0, 0, 0, 0, 0, 0, 0, 0, 0, 0, 0, 0, 0, 0, 0, 0, 0, 0, 0, 0, 0, 0, 0, 0, 0, 0, 0, 0, 0, 0, 0, 0, 0, 0, 0, 0, 0, 0, 0, 0, 0, 0, 0, 0, 0, 0, 0, 0, 0, 0, 0, 0, 0, 0, 0, 0, 0, 0, 0, 0, 0, 0, 0, 0, 0, 0, 0, 0, 0, 0, 0, 0, 0, 0, 0, 0, 0, 0, 0, 0, 0, 0, 0, 0, 0, 0, 0, 0, 0, 0, 0, 0, 0, 0, 0, 0, 0, 0, 0, 0, 0, 0, 0, 0, 0, 0, 0, 0, 0, 0, 0, 0, 0, 0, 0, 0, 0, 0, 0, 0, 0, 0, 0, 0] 0.24306464195251465\n",
      "[(1985, 0, 0), (1986, 0, 0), (1987, 0, 0), (1988, 0, 0), (1989, 0, 0), (1990, 0, 0), (1991, 0, 0), (1992, 0, 0), (1993, 0, 0), (1994, 0, 0), (1995, 0, 0), (1996, 0, 0), (1997, 0, 0), (1998, 0, 0), (1999, 0, 0), (2000, 0, 0), (2001, 0, 0), (2002, 0, 0), (2003, 0, 0), (2004, 0, 0), (2005, 0, 0), (2006, 0, 0), (2007, 0, 0), (2008, 0, 0), (2009, 0, 0), (2010, 0, 0), (2011, 0, 0), (2012, 0, 0), (2013, 0, 0), (2014, 0, 0), (2015, 0, 0), (2016, 0, 0), (2017, 0, 0), (2018, 0, 0), (2019, 0, 0), (2020, 0, 0), (2021, 0, 0), (2022, 0, 0)]\n",
      "\n",
      "https://apps.fs.usda.gov/fsgisx01/rest/services/Utilities2/LCMS_CONUS_Most_Recent_Year_of_Fast_Loss/ImageServer/computeHistograms?f=json&geometryType=esriGeometryEnvelope&geometry=%7B%22spatialReference%22%3A%7B%22latestWkid%22%3A3857%2C%22wkid%22%3A102100%7D%2C%22xmin%22%3A-13246561.325033473%2C%22ymin%22%3A3946585.0172320995%2C%22xmax%22%3A-13146561.325033473%2C%22ymax%22%3A4046585.0172320995%7D&pixelSize=%7B%22x%22%3A30%2C%22y%22%3A30%2C%22spatialReference%22%3A%7B%22latestWkid%22%3A3857%2C%22wkid%22%3A102100%7D%7D\n",
      "LCMS_Albers [0, 0, 0, 0, 0, 0, 0, 0, 0, 0, 0, 0, 0, 0, 0, 3012, 2587, 10294, 4939, 5502, 5334, 1542, 1399, 1082, 39877, 1063, 2642, 8889, 2530, 8444, 5874, 4161, 5420, 5659, 4712, 3553, 7035, 41809, 15728, 5029, 83052, 2814, 3863, 62100, 16144, 12075, 19404, 6138, 27899, 76401, 9996, 42822, 20789] 0.43068575859069824\n",
      "https://apps.fs.usda.gov/fsgisx01/rest/services/RDW_LandscapeAndWildlife/LCMS_CONUS_Most_Recent_Year_Of_Fast_Loss/ImageServer/computeHistograms?f=json&geometryType=esriGeometryEnvelope&geometry=%7B%22spatialReference%22%3A%7B%22latestWkid%22%3A3857%2C%22wkid%22%3A102100%7D%2C%22xmin%22%3A-13246561.325033473%2C%22ymin%22%3A3946585.0172320995%2C%22xmax%22%3A-13146561.325033473%2C%22ymax%22%3A4046585.0172320995%7D&pixelSize=%7B%22x%22%3A30%2C%22y%22%3A30%2C%22spatialReference%22%3A%7B%22latestWkid%22%3A3857%2C%22wkid%22%3A102100%7D%7D\n",
      "LCMS_WebMercator [0, 0, 0, 0, 0, 0, 0, 0, 0, 0, 0, 0, 0, 0, 0, 2812, 2840, 7933, 4073, 3576, 4716, 1434, 1387, 819, 50395, 617, 2080, 11187, 2204, 6553, 4242, 3687, 4210, 3182, 3708, 2761, 2851, 38515, 21200, 4178, 2248, 2274, 3583, 42935, 16012, 10557, 16322, 4853, 7371, 107720, 10702, 53070, 18646] 0.89388108253479\n",
      "[(1985, 0, 0), (1986, 0, 0), (1987, 0, 0), (1988, 0, 0), (1989, 0, 0), (1990, 0, 0), (1991, 0, 0), (1992, 0, 0), (1993, 0, 0), (1994, 0, 0), (1995, 0, 0), (1996, 0, 0), (1997, 0, 0), (1998, 0, 0), (1999, 0, 0), (2000, 3012, 2812), (2001, 2587, 2840), (2002, 10294, 7933), (2003, 4939, 4073), (2004, 5502, 3576), (2005, 5334, 4716), (2006, 1542, 1434), (2007, 1399, 1387), (2008, 1082, 819), (2009, 39877, 50395), (2010, 1063, 617), (2011, 2642, 2080), (2012, 8889, 11187), (2013, 2530, 2204), (2014, 8444, 6553), (2015, 5874, 4242), (2016, 4161, 3687), (2017, 5420, 4210), (2018, 5659, 3182), (2019, 4712, 3708), (2020, 3553, 2761), (2021, 7035, 2851), (2022, 41809, 38515)]\n",
      "\n",
      "https://apps.fs.usda.gov/fsgisx01/rest/services/Utilities2/LCMS_CONUS_Most_Recent_Year_of_Fast_Loss/ImageServer/computeHistograms?f=json&geometryType=esriGeometryEnvelope&geometry=%7B%22spatialReference%22%3A%7B%22latestWkid%22%3A3857%2C%22wkid%22%3A102100%7D%2C%22xmin%22%3A-12131791.374133497%2C%22ymin%22%3A4072045.1585377865%2C%22xmax%22%3A-12031791.374133497%2C%22ymax%22%3A4172045.1585377865%7D&pixelSize=%7B%22x%22%3A30%2C%22y%22%3A30%2C%22spatialReference%22%3A%7B%22latestWkid%22%3A3857%2C%22wkid%22%3A102100%7D%7D\n",
      "LCMS_Albers [0, 0, 0, 0, 0, 0, 0, 0, 0, 0, 0, 0, 0, 0, 0, 374, 393, 711, 1591, 4156, 181, 66, 97, 282, 639, 169, 301, 350, 360, 662, 4217, 203, 459, 176, 385, 50, 672, 683, 187, 244, 193, 408, 691, 512, 1052, 527, 642, 1128, 923, 320, 391, 875, 2380] 0.33512091636657715\n",
      "https://apps.fs.usda.gov/fsgisx01/rest/services/RDW_LandscapeAndWildlife/LCMS_CONUS_Most_Recent_Year_Of_Fast_Loss/ImageServer/computeHistograms?f=json&geometryType=esriGeometryEnvelope&geometry=%7B%22spatialReference%22%3A%7B%22latestWkid%22%3A3857%2C%22wkid%22%3A102100%7D%2C%22xmin%22%3A-12131791.374133497%2C%22ymin%22%3A4072045.1585377865%2C%22xmax%22%3A-12031791.374133497%2C%22ymax%22%3A4172045.1585377865%7D&pixelSize=%7B%22x%22%3A30%2C%22y%22%3A30%2C%22spatialReference%22%3A%7B%22latestWkid%22%3A3857%2C%22wkid%22%3A102100%7D%7D\n",
      "LCMS_WebMercator [0, 0, 0, 0, 0, 0, 0, 0, 0, 0, 0, 0, 0, 0, 0, 429, 413, 328, 136, 3073, 101, 68, 76, 159, 538, 127, 364, 221, 346, 621, 2403, 97, 196, 246, 520, 59, 575, 971, 265, 315, 272, 288, 959, 536, 1515, 703, 455, 352, 520, 197, 150, 1181, 2523] 0.8327672481536865\n",
      "[(1985, 0, 0), (1986, 0, 0), (1987, 0, 0), (1988, 0, 0), (1989, 0, 0), (1990, 0, 0), (1991, 0, 0), (1992, 0, 0), (1993, 0, 0), (1994, 0, 0), (1995, 0, 0), (1996, 0, 0), (1997, 0, 0), (1998, 0, 0), (1999, 0, 0), (2000, 374, 429), (2001, 393, 413), (2002, 711, 328), (2003, 1591, 136), (2004, 4156, 3073), (2005, 181, 101), (2006, 66, 68), (2007, 97, 76), (2008, 282, 159), (2009, 639, 538), (2010, 169, 127), (2011, 301, 364), (2012, 350, 221), (2013, 360, 346), (2014, 662, 621), (2015, 4217, 2403), (2016, 203, 97), (2017, 459, 196), (2018, 176, 246), (2019, 385, 520), (2020, 50, 59), (2021, 672, 575), (2022, 683, 971)]\n",
      "\n",
      "https://apps.fs.usda.gov/fsgisx01/rest/services/Utilities2/LCMS_CONUS_Most_Recent_Year_of_Fast_Loss/ImageServer/computeHistograms?f=json&geometryType=esriGeometryEnvelope&geometry=%7B%22spatialReference%22%3A%7B%22latestWkid%22%3A3857%2C%22wkid%22%3A102100%7D%2C%22xmin%22%3A-9814972.504600964%2C%22ymin%22%3A3763824.1410088167%2C%22xmax%22%3A-9714972.504600964%2C%22ymax%22%3A3863824.1410088167%7D&pixelSize=%7B%22x%22%3A30%2C%22y%22%3A30%2C%22spatialReference%22%3A%7B%22latestWkid%22%3A3857%2C%22wkid%22%3A102100%7D%7D\n",
      "LCMS_Albers [0, 0, 0, 0, 0, 0, 0, 0, 0, 0, 0, 0, 0, 0, 0, 45836, 38146, 34555, 55700, 50456, 44374, 44189, 58329, 65656, 50860, 78812, 67321, 65242, 128148, 132521, 168298, 105838, 101874, 87615, 122517, 120736, 281535, 256321, 192986, 169922, 175983, 211302, 150024, 148627, 192978, 171867, 186197, 190312, 198799, 171046, 168788, 70253, 378442] 0.6341571807861328\n",
      "https://apps.fs.usda.gov/fsgisx01/rest/services/RDW_LandscapeAndWildlife/LCMS_CONUS_Most_Recent_Year_Of_Fast_Loss/ImageServer/computeHistograms?f=json&geometryType=esriGeometryEnvelope&geometry=%7B%22spatialReference%22%3A%7B%22latestWkid%22%3A3857%2C%22wkid%22%3A102100%7D%2C%22xmin%22%3A-9814972.504600964%2C%22ymin%22%3A3763824.1410088167%2C%22xmax%22%3A-9714972.504600964%2C%22ymax%22%3A3863824.1410088167%7D&pixelSize=%7B%22x%22%3A30%2C%22y%22%3A30%2C%22spatialReference%22%3A%7B%22latestWkid%22%3A3857%2C%22wkid%22%3A102100%7D%7D\n",
      "LCMS_WebMercator [0, 0, 0, 0, 0, 0, 0, 0, 0, 0, 0, 0, 0, 0, 0, 55926, 45662, 39763, 66074, 61259, 53479, 49992, 70028, 78930, 59714, 93437, 76100, 73407, 152571, 160635, 201553, 126588, 123402, 104010, 143972, 145553, 345700, 322469, 228883, 196932, 206259, 248428, 176227, 170643, 232974, 199010, 206350, 222718, 233198, 205045, 194348, 78661, 433054] 1.0797464847564697\n",
      "[(1985, 0, 0), (1986, 0, 0), (1987, 0, 0), (1988, 0, 0), (1989, 0, 0), (1990, 0, 0), (1991, 0, 0), (1992, 0, 0), (1993, 0, 0), (1994, 0, 0), (1995, 0, 0), (1996, 0, 0), (1997, 0, 0), (1998, 0, 0), (1999, 0, 0), (2000, 45836, 55926), (2001, 38146, 45662), (2002, 34555, 39763), (2003, 55700, 66074), (2004, 50456, 61259), (2005, 44374, 53479), (2006, 44189, 49992), (2007, 58329, 70028), (2008, 65656, 78930), (2009, 50860, 59714), (2010, 78812, 93437), (2011, 67321, 76100), (2012, 65242, 73407), (2013, 128148, 152571), (2014, 132521, 160635), (2015, 168298, 201553), (2016, 105838, 126588), (2017, 101874, 123402), (2018, 87615, 104010), (2019, 122517, 143972), (2020, 120736, 145553), (2021, 281535, 345700), (2022, 256321, 322469)]\n",
      "\n",
      "https://apps.fs.usda.gov/fsgisx01/rest/services/Utilities2/LCMS_CONUS_Most_Recent_Year_of_Fast_Loss/ImageServer/computeHistograms?f=json&geometryType=esriGeometryEnvelope&geometry=%7B%22spatialReference%22%3A%7B%22latestWkid%22%3A3857%2C%22wkid%22%3A102100%7D%2C%22xmin%22%3A-9382398.998174343%2C%22ymin%22%3A3569550.5060986755%2C%22xmax%22%3A-9282398.998174343%2C%22ymax%22%3A3669550.5060986755%7D&pixelSize=%7B%22x%22%3A30%2C%22y%22%3A30%2C%22spatialReference%22%3A%7B%22latestWkid%22%3A3857%2C%22wkid%22%3A102100%7D%7D\n",
      "LCMS_Albers [0, 0, 0, 0, 0, 0, 0, 0, 0, 0, 0, 0, 0, 0, 0, 38040, 74843, 41905, 61252, 34808, 50686, 33501, 51316, 59590, 49502, 40088, 78143, 84515, 125740, 114259, 172617, 70221, 86143, 60218, 95116, 96360, 169599, 181954, 81044, 74584, 69730, 160939, 117507, 104994, 108959, 118153, 162327, 247921, 136071, 119065, 118550, 40794, 351646] 0.6244616508483887\n",
      "https://apps.fs.usda.gov/fsgisx01/rest/services/RDW_LandscapeAndWildlife/LCMS_CONUS_Most_Recent_Year_Of_Fast_Loss/ImageServer/computeHistograms?f=json&geometryType=esriGeometryEnvelope&geometry=%7B%22spatialReference%22%3A%7B%22latestWkid%22%3A3857%2C%22wkid%22%3A102100%7D%2C%22xmin%22%3A-9382398.998174343%2C%22ymin%22%3A3569550.5060986755%2C%22xmax%22%3A-9282398.998174343%2C%22ymax%22%3A3669550.5060986755%7D&pixelSize=%7B%22x%22%3A30%2C%22y%22%3A30%2C%22spatialReference%22%3A%7B%22latestWkid%22%3A3857%2C%22wkid%22%3A102100%7D%7D\n",
      "LCMS_WebMercator [0, 0, 0, 0, 0, 0, 0, 0, 0, 0, 0, 0, 0, 0, 0, 39492, 86225, 44534, 65352, 37788, 55330, 34644, 53883, 65397, 51543, 42016, 80848, 89413, 135805, 116994, 181503, 71824, 85999, 57877, 104287, 99570, 184446, 193537, 90974, 82649, 74458, 175336, 122940, 106914, 112115, 117884, 169779, 266976, 146858, 124706, 119708, 38579, 359641] 1.1873044967651367\n",
      "[(1985, 0, 0), (1986, 0, 0), (1987, 0, 0), (1988, 0, 0), (1989, 0, 0), (1990, 0, 0), (1991, 0, 0), (1992, 0, 0), (1993, 0, 0), (1994, 0, 0), (1995, 0, 0), (1996, 0, 0), (1997, 0, 0), (1998, 0, 0), (1999, 0, 0), (2000, 38040, 39492), (2001, 74843, 86225), (2002, 41905, 44534), (2003, 61252, 65352), (2004, 34808, 37788), (2005, 50686, 55330), (2006, 33501, 34644), (2007, 51316, 53883), (2008, 59590, 65397), (2009, 49502, 51543), (2010, 40088, 42016), (2011, 78143, 80848), (2012, 84515, 89413), (2013, 125740, 135805), (2014, 114259, 116994), (2015, 172617, 181503), (2016, 70221, 71824), (2017, 86143, 85999), (2018, 60218, 57877), (2019, 95116, 104287), (2020, 96360, 99570), (2021, 169599, 184446), (2022, 181954, 193537)]\n",
      "\n",
      "https://apps.fs.usda.gov/fsgisx01/rest/services/Utilities2/LCMS_CONUS_Most_Recent_Year_of_Fast_Loss/ImageServer/computeHistograms?f=json&geometryType=esriGeometryEnvelope&geometry=%7B%22spatialReference%22%3A%7B%22latestWkid%22%3A3857%2C%22wkid%22%3A102100%7D%2C%22xmin%22%3A-14206705.14554796%2C%22ymin%22%3A3549700.217005708%2C%22xmax%22%3A-14106705.14554796%2C%22ymax%22%3A3649700.217005708%7D&pixelSize=%7B%22x%22%3A30%2C%22y%22%3A30%2C%22spatialReference%22%3A%7B%22latestWkid%22%3A3857%2C%22wkid%22%3A102100%7D%7D\n",
      "LCMS_Albers [0, 0, 0, 0, 0, 0, 0, 0, 0, 0, 0, 0, 0, 0, 0, 0, 0, 0, 0, 0, 0, 0, 0, 0, 0, 0, 0, 0, 0, 0, 0, 0, 0, 0, 0, 0, 0, 0, 0, 0, 0, 0, 0, 0, 0, 0, 0, 0, 0, 0, 0, 0, 0, 0, 0, 0, 0, 0, 0, 0, 0, 0, 0, 0, 0, 0, 0, 0, 0, 0, 0, 0, 0, 0, 0, 0, 0, 0, 0, 0, 0, 0, 0, 0, 0, 0, 0, 0, 0, 0, 0, 0, 0, 0, 0, 0, 0, 0, 0, 0, 0, 0, 0, 0, 0, 0, 0, 0, 0, 0, 0, 0, 0, 0, 0, 0, 0, 0, 0, 0, 0, 0, 0, 0, 0, 0, 0, 0, 0, 0, 0, 0, 0, 0, 0, 0, 0, 0, 0, 0, 0, 0, 0, 0, 0, 0, 0, 0, 0, 0, 0, 0, 0, 0, 0, 0, 0, 0, 0, 0, 0, 0, 0, 0, 0, 0, 0, 0, 0, 0, 0, 0, 0, 0, 0, 0, 0, 0, 0, 0, 0, 0, 0, 0, 0, 0, 0, 0, 0, 0, 0, 0, 0, 0, 0, 0, 0, 0, 0, 0, 0, 0, 0, 0, 0, 0, 0, 0, 0, 0, 0, 0, 0, 0, 0, 0, 0, 0, 0, 0, 0, 0, 0, 0, 0, 0, 0, 0, 0, 0, 0, 0, 0, 0, 0, 0, 0, 0, 0, 0, 0, 0, 0, 0, 0, 0, 0, 0, 0, 0, 0, 0, 0, 0, 0, 0] 0.24379229545593262\n",
      "https://apps.fs.usda.gov/fsgisx01/rest/services/RDW_LandscapeAndWildlife/LCMS_CONUS_Most_Recent_Year_Of_Fast_Loss/ImageServer/computeHistograms?f=json&geometryType=esriGeometryEnvelope&geometry=%7B%22spatialReference%22%3A%7B%22latestWkid%22%3A3857%2C%22wkid%22%3A102100%7D%2C%22xmin%22%3A-14206705.14554796%2C%22ymin%22%3A3549700.217005708%2C%22xmax%22%3A-14106705.14554796%2C%22ymax%22%3A3649700.217005708%7D&pixelSize=%7B%22x%22%3A30%2C%22y%22%3A30%2C%22spatialReference%22%3A%7B%22latestWkid%22%3A3857%2C%22wkid%22%3A102100%7D%7D\n",
      "LCMS_WebMercator [0, 0, 0, 0, 0, 0, 0, 0, 0, 0, 0, 0, 0, 0, 0, 0, 0, 0, 0, 0, 0, 0, 0, 0, 0, 0, 0, 0, 0, 0, 0, 0, 0, 0, 0, 0, 0, 0, 0, 0, 0, 0, 0, 0, 0, 0, 0, 0, 0, 0, 0, 0, 0, 0, 0, 0, 0, 0, 0, 0, 0, 0, 0, 0, 0, 0, 0, 0, 0, 0, 0, 0, 0, 0, 0, 0, 0, 0, 0, 0, 0, 0, 0, 0, 0, 0, 0, 0, 0, 0, 0, 0, 0, 0, 0, 0, 0, 0, 0, 0, 0, 0, 0, 0, 0, 0, 0, 0, 0, 0, 0, 0, 0, 0, 0, 0, 0, 0, 0, 0, 0, 0, 0, 0, 0, 0, 0, 0, 0, 0, 0, 0, 0, 0, 0, 0, 0, 0, 0, 0, 0, 0, 0, 0, 0, 0, 0, 0, 0, 0, 0, 0, 0, 0, 0, 0, 0, 0, 0, 0, 0, 0, 0, 0, 0, 0, 0, 0, 0, 0, 0, 0, 0, 0, 0, 0, 0, 0, 0, 0, 0, 0, 0, 0, 0, 0, 0, 0, 0, 0, 0, 0, 0, 0, 0, 0, 0, 0, 0, 0, 0, 0, 0, 0, 0, 0, 0, 0, 0, 0, 0, 0, 0, 0, 0, 0, 0, 0, 0, 0, 0, 0, 0, 0, 0, 0, 0, 0, 0, 0, 0, 0, 0, 0, 0, 0, 0, 0, 0, 0, 0, 0, 0, 0, 0, 0, 0, 0, 0, 0, 0, 0, 0, 0, 0, 0] 0.2250041961669922\n",
      "[(1985, 0, 0), (1986, 0, 0), (1987, 0, 0), (1988, 0, 0), (1989, 0, 0), (1990, 0, 0), (1991, 0, 0), (1992, 0, 0), (1993, 0, 0), (1994, 0, 0), (1995, 0, 0), (1996, 0, 0), (1997, 0, 0), (1998, 0, 0), (1999, 0, 0), (2000, 0, 0), (2001, 0, 0), (2002, 0, 0), (2003, 0, 0), (2004, 0, 0), (2005, 0, 0), (2006, 0, 0), (2007, 0, 0), (2008, 0, 0), (2009, 0, 0), (2010, 0, 0), (2011, 0, 0), (2012, 0, 0), (2013, 0, 0), (2014, 0, 0), (2015, 0, 0), (2016, 0, 0), (2017, 0, 0), (2018, 0, 0), (2019, 0, 0), (2020, 0, 0), (2021, 0, 0), (2022, 0, 0)]\n",
      "\n",
      "https://apps.fs.usda.gov/fsgisx01/rest/services/Utilities2/LCMS_CONUS_Most_Recent_Year_of_Fast_Loss/ImageServer/computeHistograms?f=json&geometryType=esriGeometryEnvelope&geometry=%7B%22spatialReference%22%3A%7B%22latestWkid%22%3A3857%2C%22wkid%22%3A102100%7D%2C%22xmin%22%3A-13420546.05175162%2C%22ymin%22%3A3167250.200597089%2C%22xmax%22%3A-13320546.05175162%2C%22ymax%22%3A3267250.200597089%7D&pixelSize=%7B%22x%22%3A30%2C%22y%22%3A30%2C%22spatialReference%22%3A%7B%22latestWkid%22%3A3857%2C%22wkid%22%3A102100%7D%7D\n",
      "LCMS_Albers [0, 0, 0, 0, 0, 0, 0, 0, 0, 0, 0, 0, 0, 0, 0, 0, 0, 0, 0, 0, 0, 0, 0, 0, 0, 0, 0, 0, 0, 0, 0, 0, 0, 0, 0, 0, 0, 0, 0, 0, 0, 0, 0, 0, 0, 0, 0, 0, 0, 0, 0, 0, 0, 0, 0, 0, 0, 0, 0, 0, 0, 0, 0, 0, 0, 0, 0, 0, 0, 0, 0, 0, 0, 0, 0, 0, 0, 0, 0, 0, 0, 0, 0, 0, 0, 0, 0, 0, 0, 0, 0, 0, 0, 0, 0, 0, 0, 0, 0, 0, 0, 0, 0, 0, 0, 0, 0, 0, 0, 0, 0, 0, 0, 0, 0, 0, 0, 0, 0, 0, 0, 0, 0, 0, 0, 0, 0, 0, 0, 0, 0, 0, 0, 0, 0, 0, 0, 0, 0, 0, 0, 0, 0, 0, 0, 0, 0, 0, 0, 0, 0, 0, 0, 0, 0, 0, 0, 0, 0, 0, 0, 0, 0, 0, 0, 0, 0, 0, 0, 0, 0, 0, 0, 0, 0, 0, 0, 0, 0, 0, 0, 0, 0, 0, 0, 0, 0, 0, 0, 0, 0, 0, 0, 0, 0, 0, 0, 0, 0, 0, 0, 0, 0, 0, 0, 0, 0, 0, 0, 0, 0, 0, 0, 0, 0, 0, 0, 0, 0, 0, 0, 0, 0, 0, 0, 0, 0, 0, 0, 0, 0, 0, 0, 0, 0, 0, 0, 0, 0, 0, 0, 0, 0, 0, 0, 0, 0, 0, 0, 0, 0, 0, 0, 0, 0, 0] 0.36453962326049805\n",
      "https://apps.fs.usda.gov/fsgisx01/rest/services/RDW_LandscapeAndWildlife/LCMS_CONUS_Most_Recent_Year_Of_Fast_Loss/ImageServer/computeHistograms?f=json&geometryType=esriGeometryEnvelope&geometry=%7B%22spatialReference%22%3A%7B%22latestWkid%22%3A3857%2C%22wkid%22%3A102100%7D%2C%22xmin%22%3A-13420546.05175162%2C%22ymin%22%3A3167250.200597089%2C%22xmax%22%3A-13320546.05175162%2C%22ymax%22%3A3267250.200597089%7D&pixelSize=%7B%22x%22%3A30%2C%22y%22%3A30%2C%22spatialReference%22%3A%7B%22latestWkid%22%3A3857%2C%22wkid%22%3A102100%7D%7D\n",
      "LCMS_WebMercator [0, 0, 0, 0, 0, 0, 0, 0, 0, 0, 0, 0, 0, 0, 0, 0, 0, 0, 0, 0, 0, 0, 0, 0, 0, 0, 0, 0, 0, 0, 0, 0, 0, 0, 0, 0, 0, 0, 0, 0, 0, 0, 0, 0, 0, 0, 0, 0, 0, 0, 0, 0, 0, 0, 0, 0, 0, 0, 0, 0, 0, 0, 0, 0, 0, 0, 0, 0, 0, 0, 0, 0, 0, 0, 0, 0, 0, 0, 0, 0, 0, 0, 0, 0, 0, 0, 0, 0, 0, 0, 0, 0, 0, 0, 0, 0, 0, 0, 0, 0, 0, 0, 0, 0, 0, 0, 0, 0, 0, 0, 0, 0, 0, 0, 0, 0, 0, 0, 0, 0, 0, 0, 0, 0, 0, 0, 0, 0, 0, 0, 0, 0, 0, 0, 0, 0, 0, 0, 0, 0, 0, 0, 0, 0, 0, 0, 0, 0, 0, 0, 0, 0, 0, 0, 0, 0, 0, 0, 0, 0, 0, 0, 0, 0, 0, 0, 0, 0, 0, 0, 0, 0, 0, 0, 0, 0, 0, 0, 0, 0, 0, 0, 0, 0, 0, 0, 0, 0, 0, 0, 0, 0, 0, 0, 0, 0, 0, 0, 0, 0, 0, 0, 0, 0, 0, 0, 0, 0, 0, 0, 0, 0, 0, 0, 0, 0, 0, 0, 0, 0, 0, 0, 0, 0, 0, 0, 0, 0, 0, 0, 0, 0, 0, 0, 0, 0, 0, 0, 0, 0, 0, 0, 0, 0, 0, 0, 0, 0, 0, 0, 0, 0, 0, 0, 0, 0] 0.8063960075378418\n",
      "[(1985, 0, 0), (1986, 0, 0), (1987, 0, 0), (1988, 0, 0), (1989, 0, 0), (1990, 0, 0), (1991, 0, 0), (1992, 0, 0), (1993, 0, 0), (1994, 0, 0), (1995, 0, 0), (1996, 0, 0), (1997, 0, 0), (1998, 0, 0), (1999, 0, 0), (2000, 0, 0), (2001, 0, 0), (2002, 0, 0), (2003, 0, 0), (2004, 0, 0), (2005, 0, 0), (2006, 0, 0), (2007, 0, 0), (2008, 0, 0), (2009, 0, 0), (2010, 0, 0), (2011, 0, 0), (2012, 0, 0), (2013, 0, 0), (2014, 0, 0), (2015, 0, 0), (2016, 0, 0), (2017, 0, 0), (2018, 0, 0), (2019, 0, 0), (2020, 0, 0), (2021, 0, 0), (2022, 0, 0)]\n",
      "\n",
      "done\n"
     ]
    }
   ],
   "source": [
    "def getJSON(call):\n",
    "    startTime = time.time()\n",
    "    call_url = urllib.request.urlopen(call)\n",
    "    data = call_url.read()\n",
    "    encoding = call_url.info().get_content_charset('utf-8')\n",
    "    out = json.loads(data.decode(encoding))\n",
    "    endTime = time.time()\n",
    "    tDiff = endTime-startTime\n",
    "    return out,tDiff\n",
    "# https://ntcfsxopsx1284:6443/arcgis/rest/services/Utilities2/TM2016_CONUS_StandHt/ImageServer/identify?f=json&geometryType=esriGeometryPoint&geometry=%7B%22spatialReference%22%3A%7B%22latestWkid%22%3A3857%2C%22wkid%22%3A102100%7D%2C%22x%22%3A-11921755.53687916%2C%22y%22%3A4532808.442112485%7D&mosaicRule=%7B%22ascending%22%3Atrue%2C%22mosaicMethod%22%3A%22esriMosaicNorthwest%22%2C%22mosaicOperation%22%3A%22MT_FIRST%22%7D&pixelSize=%7B%22spatialReference%22%3A%7B%22latestWkid%22%3A3857%2C%22wkid%22%3A102100%7D%2C%22x%22%3A152.87405657041106%2C%22y%22%3A152.87405657041106%7D&returnGeometry=false&returnCatalogItems=true&returnPixelValues=true&maxItemCount=1&processAsMultidimensional=false\n",
    "#https://ic.imagery1.arcgis.com/arcgis/rest/services/Sentinel2_10m_LandCover/ImageServer/computeHistograms?f=json&geometryType=esriGeometryEnvelope&geometry=%7B%22spatialReference%22%3A%7B%22latestWkid%22%3A3857%2C%22wkid%22%3A102100%7D%2C%22xmin%22%3A-6439159.676091688%2C%22ymin%22%3A-2036128.75454345%2C%22xmax%22%3A-6321752.400645688%2C%22ymax%22%3A-2018701.1120944342%7D&mosaicRule=%7B%22ascending%22%3Atrue%2C%22mosaicMethod%22%3A%22esriMosaicAttribute%22%2C%22sortValue%22%3Anull%2C%22where%22%3A%22%28Year+%3D+2022%29%22%7D&renderingRule=%7B%22rasterFunction%22%3A%22Cartographic+Renderer+-+Legend+and+Attribute+Table%22%7D&pixelSize=%7B%22x%22%3A76.43702828515632%2C%22y%22%3A76.43702828515632%2C%22spatialReference%22%3A%7B%22latestWkid%22%3A3857%2C%22wkid%22%3A102100%7D%7D\n",
    "exportImage_template = '{}/exportImage?f=image&bbox={}&imageSR={}&bboxSR=102100'\n",
    "identify_template = '{}/identify?f=json&geometryType=esriGeometryPoint&geometry={},{}&sr=102100&returnPixelValues=true&maxItemCount=1&processAsMultidimensional=false'\n",
    "def getBenchmarkTable(overwrite=False):\n",
    "    if not os.path.exists(exportImage_output_folder):os.makedirs(exportImage_output_folder)\n",
    "\n",
    "    if not os.path.exists(exportImageTable) or overwrite:\n",
    "        out_table = 'Iteration,Bbox'\n",
    "        for service_name in list(image_services.keys()):\n",
    "            for projection_name in projections.keys():\n",
    "                out_table+=',{} Projection-{} Time'.format(service_name,projection_name)\n",
    "        out_table+='\\n'\n",
    "\n",
    "        for i in range(1,nTests+1):\n",
    "            xs = getRandomN(2,service_bounds[0],service_bounds[2])\n",
    "            ys = getRandomN(2,service_bounds[1],service_bounds[3])\n",
    "            bbox = [str(i) for i in [xs[0],ys[0],xs[1],ys[1]]]\n",
    "            bbox_comma_delimited = ','.join(bbox)\n",
    "            bbox_underscore_delimited = '_'.join(bbox)\n",
    "            # print(bbox)\n",
    "            time_list = []\n",
    "            count_lists = []\n",
    "            for service_name in list(image_services.keys()):\n",
    "                service_path = image_services[service_name]\n",
    "                \n",
    "                # for projection_name in projections.keys():\n",
    "                #     projection_code = projections[projection_name]\n",
    "                    \n",
    "\n",
    "                #     exportImageCall = '{}/exportImage?f=image&bbox={}&imageSR={}&bboxSR=102100'.format(service_path,bbox_comma_delimited,projection_code)\n",
    "                #     identifyCall = '{}/identify?f=json&geometryType=esriGeometryPoint&geometry={},{}&sr=3857&returnPixelValues=true&maxItemCount=1&processAsMultidimensional=false'.format(service_path,xs[0],ys[0])\n",
    "\n",
    "                    \n",
    "\n",
    "                #     exportImageName = os.path.join(exportImage_output_folder,'iteration{}_{}_callProj{}.png'.format(i,service_name,projection_name))\n",
    "                #     # print(computeHistogramCall)\n",
    "                #     # print(exportImageName)\n",
    "                #     # startTime = time.time()\n",
    "                #     # urllib.request.urlretrieve(exportImageCall, exportImageName)\n",
    "                #     # endTime = time.time()\n",
    "                #     # time_list.append(str(endTime-startTime))\n",
    "\n",
    "                    \n",
    "                #     # identify_json = getJSON(identifyCall)\n",
    "                #     # print(identify_json)\n",
    "                #     # hist_json = getJSON(computeHistogramCall)\n",
    "                #     # print(hist_json)\n",
    "\n",
    "                #     # computeHistogramCall = '{}/computeHistograms'.format(service_path)\n",
    "                #     # computeHistogramCall = 'https://ic.imagery1.arcgis.com/arcgis/rest/services/Sentinel2_10m_LandCover/ImageServer/computeHistograms'\n",
    "                #     # params = dict(f= 'json',\n",
    "                #     #         geometryType= 'esriGeometryEnvelope',\n",
    "                #     #         geometry= {\"spatialReference\":{\"latestWkid\":3857,\"wkid\":102100},\"xmin\":xs[0],\"ymin\":ys[0],\"xmax\":xs[1],\"ymax\":ys[1]},\n",
    "                #     #         mosaicRule= {\"ascending\":'true',\"mosaicMethod\":\"esriMosaicAttribute\",\"sortValue\":'null',\"where\":\"(Year = 2022)\"},\n",
    "                #     #         pixelSize= {\"x\":30,\"y\":30,\"spatialReference\":{\"latestWkid\":3857,\"wkid\":102100}}\n",
    "                #     #         )\n",
    "                #     # params = dict(f= 'json',\n",
    "                #     #         geometryType= 'esriGeometryEnvelope',\n",
    "                #     #         geometry= {\"spatialReference\":{\"latestWkid\":3857,\"wkid\":102100},\"xmin\":-6439159.676091688,\"ymin\":-2028179.3036017937,\"xmax\":-6321752.400645688,\"ymax\":-2026650.5630360905},\n",
    "                #     #         mosaicRule= {\"ascending\":True,\"mosaicMethod\":\"esriMosaicAttribute\",\"sortValue\":None,\"where\":\"(Year = 2022)\"},\n",
    "                #     #         renderingRule= {\"rasterFunction\":\"Cartographic Renderer - Legend and Attribute Table\"},\n",
    "                #     #         pixelSize= {\"x\":76.43702828515632,\"y\":76.43702828515632,\"spatialReference\":{\"latestWkid\":3857,\"wkid\":102100}})\n",
    "                #     # print(params)\n",
    "                computeHistogramCall = '{}/computeHistograms?f=json&geometryType=esriGeometryEnvelope&geometry=%7B%22spatialReference%22%3A%7B%22latestWkid%22%3A3857%2C%22wkid%22%3A102100%7D%2C%22xmin%22%3A{}%2C%22ymin%22%3A{}%2C%22xmax%22%3A{}%2C%22ymax%22%3A{}%7D&pixelSize=%7B%22x%22%3A30%2C%22y%22%3A30%2C%22spatialReference%22%3A%7B%22latestWkid%22%3A3857%2C%22wkid%22%3A102100%7D%7D'.format(service_path,xs[0],ys[0],xs[0]+100000,ys[0]+100000)\n",
    "                # resp = requests.get(url=computeHistogramCall)#, json=params)\n",
    "                # data = resp.json() # Check the JSON Response Content documentation below\n",
    "                print(computeHistogramCall)\n",
    "                data,dTime = getJSON(computeHistogramCall)\n",
    "                print(service_name,data['histograms'][0]['counts'],dTime)\n",
    "                count_lists.append(data['histograms'][0]['counts'])\n",
    "            print(list(zip(range(1985,2023),count_lists[0],count_lists[1])))\n",
    "            out_table+= '{},{},{}\\n'.format(i,bbox_underscore_delimited,','.join(time_list))\n",
    "            print()\n",
    "            # print(out_table)\n",
    "            o = open(exportImageTable,'w')\n",
    "            o.write(out_table)\n",
    "            o.close()\n",
    "getBenchmarkTable(overwrite=True)\n",
    "print('done')"
   ]
  },
  {
   "cell_type": "code",
   "execution_count": 23,
   "id": "b42dd1fe",
   "metadata": {},
   "outputs": [
    {
     "data": {
      "text/plain": [
       "{'objectId': 0,\n",
       " 'name': 'Pixel',\n",
       " 'value': 'NoData',\n",
       " 'location': {'x': -13596782.109807547,\n",
       "  'y': 3364025.5268414575,\n",
       "  'spatialReference': {'wkt': 'PROJCS[\"NAD_1983_Albers\",GEOGCS[\"GCS_North_American_1983\",DATUM[\"D_North_American_1983\",SPHEROID[\"GRS_1980\",6378137.0,298.257222101]],PRIMEM[\"Greenwich\",0.0],UNIT[\"Degree\",0.0174532925199433]],PROJECTION[\"Albers\"],PARAMETER[\"False_Easting\",0.0],PARAMETER[\"False_Northing\",0.0],PARAMETER[\"central_meridian\",-96.0],PARAMETER[\"Standard_Parallel_1\",29.5],PARAMETER[\"Standard_Parallel_2\",45.5],PARAMETER[\"latitude_of_origin\",23.0],UNIT[\"Meter\",1.0]]'}},\n",
       " 'properties': {},\n",
       " 'catalogItems': {'objectIdFieldName': 'OBJECTID',\n",
       "  'geometryType': 'esriGeometryPolygon',\n",
       "  'spatialReference': {'wkt': 'PROJCS[\"NAD_1983_Albers\",GEOGCS[\"GCS_North_American_1983\",DATUM[\"D_North_American_1983\",SPHEROID[\"GRS_1980\",6378137.0,298.257222101]],PRIMEM[\"Greenwich\",0.0],UNIT[\"Degree\",0.0174532925199433]],PROJECTION[\"Albers\"],PARAMETER[\"False_Easting\",0.0],PARAMETER[\"False_Northing\",0.0],PARAMETER[\"central_meridian\",-96.0],PARAMETER[\"Standard_Parallel_1\",29.5],PARAMETER[\"Standard_Parallel_2\",45.5],PARAMETER[\"latitude_of_origin\",23.0],UNIT[\"Meter\",1.0]]'},\n",
       "  'features': []},\n",
       " 'catalogItemVisibilities': []}"
      ]
     },
     "execution_count": 23,
     "metadata": {},
     "output_type": "execute_result"
    }
   ],
   "source": [
    "import json\n",
    "import urllib.request\n",
    "urlData = \"https://ntcfsxopsx1284:6443/arcgis/rest/services/Utilities2/TM2016_CONUS_StandHt/ImageServer/identify?f=json&geometryType=esriGeometryPoint&geometry=-13596782.109807547,3364025.5268414575&sr=102100&returnPixelValues=true&maxItemCount=1&processAsMultidimensional=false\"\n",
    "webURL = urllib.request.urlopen(urlData)\n",
    "data = webURL.read()\n",
    "encoding = webURL.info().get_content_charset('utf-8')\n",
    "json.loads(data.decode(encoding))"
   ]
  },
  {
   "cell_type": "code",
   "execution_count": 70,
   "id": "8456d9b7",
   "metadata": {},
   "outputs": [
    {
     "name": "stdout",
     "output_type": "stream",
     "text": [
      "1684882300.2222278\n"
     ]
    }
   ],
   "source": [
    "print(time.time())"
   ]
  },
  {
   "cell_type": "code",
   "execution_count": 5,
   "id": "8a0b45c2",
   "metadata": {},
   "outputs": [
    {
     "name": "stdout",
     "output_type": "stream",
     "text": [
      "['MosaicMRF_Albers Projection-Albers Time', 'MosaicMRF_Albers Projection-WM Time']\n",
      "Mean diff: 0.0060987286567688\n",
      "MAE: 0.05414715909957886\n",
      "RMSE: 0.21071999724245802\n",
      "STDev: 0.21063172303010916\n",
      "Ttest_indResult(statistic=0.572574656657278, pvalue=0.5469061876247505)\n",
      "['MRF_Albers Projection-Albers Time', 'MRF_Albers Projection-WM Time']\n",
      "Mean diff: 0.004600058078765871\n",
      "MAE: 0.03918256807327271\n",
      "RMSE: 0.11931526513203046\n",
      "STDev: 0.11922655727311221\n",
      "Ttest_indResult(statistic=0.27503868170345264, pvalue=0.780439121756487)\n",
      "['MosaicMRF_WebMercator Projection-Albers Time', 'MosaicMRF_WebMercator Projection-WM Time']\n",
      "Mean diff: 0.02266686439514161\n",
      "MAE: 0.04659200763702393\n",
      "RMSE: 0.2940246785585787\n",
      "STDev: 0.293149662902702\n",
      "Ttest_indResult(statistic=0.2999974614904025, pvalue=0.49500998003992014)\n",
      "['MRF_WebMercator Projection-Albers Time', 'MRF_WebMercator Projection-WM Time']\n",
      "Mean diff: 0.021460890769958496\n",
      "MAE: 0.034723226547241214\n",
      "RMSE: 0.09753614789100382\n",
      "STDev: 0.09514583707538485\n",
      "Ttest_indResult(statistic=3.1221267419802405, pvalue=0.001996007984031936)\n"
     ]
    },
    {
     "data": {
      "text/plain": [
       "Text(0.5, 0, 'Diff Seconds')"
      ]
     },
     "execution_count": 5,
     "metadata": {},
     "output_type": "execute_result"
    },
    {
     "data": {
      "image/png": "[encoded data removed]",
      "text/plain": [
       "<Figure size 640x480 with 1 Axes>"
      ]
     },
     "metadata": {},
     "output_type": "display_data"
    }
   ],
   "source": [
    "t = pandas.read_csv(exportImageTable)\n",
    "# print(t)\n",
    "plots = []\n",
    "for service_name in list(image_services.keys()):\n",
    "    field_list = []\n",
    "    for projection_name in projections.keys():\n",
    "        field_name = '{} Projection-{} Time'.format(service_name,projection_name)\n",
    "        field_list.append(field_name)\n",
    "    print(field_list)\n",
    "    diff = t[field_list[0]]-t[field_list[1]]\n",
    "    mean = numpy.mean(diff)\n",
    "    mae = numpy.mean(numpy.absolute(diff))\n",
    "    rmse = numpy.sqrt(numpy.mean(numpy.square(diff)))\n",
    "    std = numpy.std(diff)\n",
    "    print('Mean diff:',mean)\n",
    "    print('MAE:',mae)\n",
    "    print('RMSE:',rmse)\n",
    "    print('STDev:',std)\n",
    "    ttest = scipy.stats.ttest_ind(t[field_list[0]], t[field_list[1]], axis=0, equal_var=False, nan_policy='propagate', permutations=500, random_state=None, alternative='two-sided', trim=0)\n",
    "    print(ttest)\n",
    "#     t.plot.scatter(field_list[0],field_list[1],alpha=0.5)\n",
    "    plt.hist(diff,50,alpha=0.5,label=service_name,density=False)\n",
    "plt.legend()\n",
    "plt.xlabel(\"Diff Seconds\", size=12)\n",
    "# plt.xlim(-.5,0.5)\n",
    "#     print(t[field_list])\n",
    "\n",
    "#     plots.append(plt.hist(t[field_list]))\n",
    "    \n",
    "# print(plots)"
   ]
  }
 ],
 "metadata": {
  "kernelspec": {
   "display_name": "Python 3 (ipykernel)",
   "language": "python",
   "name": "python3"
  },
  "language_info": {
   "codemirror_mode": {
    "name": "ipython",
    "version": 3
   },
   "file_extension": ".py",
   "mimetype": "text/x-python",
   "name": "python",
   "nbconvert_exporter": "python",
   "pygments_lexer": "ipython3",
   "version": "3.10.0"
  }
 },
 "nbformat": 4,
 "nbformat_minor": 5
}
