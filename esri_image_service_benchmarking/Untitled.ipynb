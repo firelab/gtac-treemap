{
 "cells": [
  {
   "cell_type": "code",
   "execution_count": 114,
   "id": "31e6a41d",
   "metadata": {},
   "outputs": [
    {
     "name": "stdout",
     "output_type": "stream",
     "text": [
      "done\n"
     ]
    }
   ],
   "source": [
    "import os,sys,requests,numpy,time,pandas,ssl,scipy\n",
    "import matplotlib.pyplot as plt\n",
    "import urllib.request\n",
    "ssl._create_default_https_context = ssl._create_unverified_context\n",
    "def getRandomN(n,min,max):return numpy.sort((max-min)*numpy.random.random_sample(n)+min)\n",
    "print('done')"
   ]
  },
  {
   "cell_type": "code",
   "execution_count": 99,
   "id": "37702420",
   "metadata": {},
   "outputs": [],
   "source": [
    "image_services = {'MosaicMRF_Albers':'https://ntcfsxopsx1284:6443/arcgis/rest/services/Utilities2/TM2016_CONUS_StandHt/ImageServer',\n",
    "'MRF_Albers':'https://ntcfsxopsx1284:6443/arcgis/rest/services/Utilities2/TreeMap2016_CONUS_StandHt_mrf/ImageServer',\n",
    "'MosaicMRF_WebMercator':'https://ntcfsxopsx1284:6443/arcgis/rest/services/Utilities2/TM2016_CONUS_StandHt_WMmosaic/ImageServer',\n",
    "'MRF_WebMercator':'https://ntcfsxopsx1284:6443/arcgis/rest/services/Utilities2/TreeMap2016_CONUS_StandHt_WM_mrf/ImageServer'\n",
    "}\n",
    "# image_services = {'LCMS_Albers':'https://apps.fs.usda.gov/fsgisx01/rest/services/RDW_LandscapeAndWildlife/LCMS_CONUS_Most_Recent_Year_Of_Fast_Loss/ImageServer',\n",
    "#                   'LCMS_WM':'https://apps.fs.usda.gov/fsgisx01/rest/services/RDW_LandscapeAndWildlife/LCMS_CONUS_Annual_Landcover/ImageServer'}\n",
    "\n",
    "service_bounds = [-1.42463587702E7,2604056.207800001,-7264068.770199999,6736796.207800001]\n",
    "\n",
    "projections = {\n",
    "    'Albers':102008,\n",
    "    'WM':3857\n",
    "}\n",
    "nTests = 500\n",
    "exportImage_output_folder = r'X:\\03_Outputs\\03_Image_Service_Benchmarking\\exportImage'\n",
    "exportImageTable = os.path.join(exportImage_output_folder,'Treemap_ExportImage_Benchmarking_Table_{}.csv'.format(nTests))"
   ]
  },
  {
   "cell_type": "code",
   "execution_count": 100,
   "id": "11ba53f3",
   "metadata": {},
   "outputs": [
    {
     "name": "stdout",
     "output_type": "stream",
     "text": [
      "done\n"
     ]
    }
   ],
   "source": [
    "\n",
    "def getBenchmarkTable(overwrite=False):\n",
    "    if not os.path.exists(exportImage_output_folder):os.makedirs(exportImage_output_folder)\n",
    "\n",
    "    if not os.path.exists(exportImageTable) or overwrite:\n",
    "        out_table = 'Iteration,Bbox'\n",
    "        for service_name in list(image_services.keys()):\n",
    "            for projection_name in projections.keys():\n",
    "                out_table+=',{} Projection-{} Time'.format(service_name,projection_name)\n",
    "        out_table+='\\n'\n",
    "\n",
    "        for i in range(1,nTests+1):\n",
    "            xs = getRandomN(2,service_bounds[0],service_bounds[2])\n",
    "            ys = getRandomN(2,service_bounds[1],service_bounds[3])\n",
    "            bbox = [str(i) for i in [xs[0],ys[0],xs[1],ys[1]]]\n",
    "            bbox_comma_delimited = ','.join(bbox)\n",
    "            bbox_underscore_delimited = '_'.join(bbox)\n",
    "            # print(bbox)\n",
    "            time_list = []\n",
    "            for service_name in list(image_services.keys()):\n",
    "                service_path = image_services[service_name]\n",
    "                \n",
    "                for projection_name in projections.keys():\n",
    "                    projection_code = projections[projection_name]\n",
    "                    \n",
    "\n",
    "                    exportImageCall = '{}/exportImage?f=image&bbox={}&imageSR={}&bboxSR=102100'.format(service_path,bbox_comma_delimited,projection_code)\n",
    "                    exportImageName = os.path.join(exportImage_output_folder,'iteration{}_{}_callProj{}.png'.format(i,service_name,projection_name))\n",
    "                    print(exportImageCall)\n",
    "                    print(exportImageName)\n",
    "                    startTime = time.time()\n",
    "                    urllib.request.urlretrieve(exportImageCall, exportImageName)\n",
    "                    endTime = time.time()\n",
    "                    time_list.append(str(endTime-startTime))\n",
    "            out_table+= '{},{},{}\\n'.format(i,bbox_underscore_delimited,','.join(time_list))\n",
    "            \n",
    "            print(out_table)\n",
    "            o = open(exportImageTable,'w')\n",
    "            o.write(out_table)\n",
    "            o.close()\n",
    "print('done')"
   ]
  },
  {
   "cell_type": "code",
   "execution_count": 102,
   "id": "8456d9b7",
   "metadata": {},
   "outputs": [],
   "source": [
    "getBenchmarkTable(overwrite=False)"
   ]
  },
  {
   "cell_type": "code",
   "execution_count": 122,
   "id": "8a0b45c2",
   "metadata": {},
   "outputs": [
    {
     "name": "stdout",
     "output_type": "stream",
     "text": [
      "['MosaicMRF_Albers Projection-Albers Time', 'MosaicMRF_Albers Projection-WM Time']\n",
      "Mean diff: 0.0060987286567688\n",
      "MAE: 0.05414715909957886\n",
      "RMSE: 0.21071999724245802\n",
      "STDev: 0.21063172303010916\n",
      "Ttest_indResult(statistic=0.572574656657278, pvalue=0.6207584830339321)\n",
      "['MRF_Albers Projection-Albers Time', 'MRF_Albers Projection-WM Time']\n",
      "Mean diff: 0.004600058078765871\n",
      "MAE: 0.03918256807327271\n",
      "RMSE: 0.11931526513203046\n",
      "STDev: 0.11922655727311221\n",
      "Ttest_indResult(statistic=0.27503868170345264, pvalue=0.7884231536926147)\n",
      "['MosaicMRF_WebMercator Projection-Albers Time', 'MosaicMRF_WebMercator Projection-WM Time']\n",
      "Mean diff: 0.02266686439514161\n",
      "MAE: 0.04659200763702393\n",
      "RMSE: 0.2940246785585787\n",
      "STDev: 0.293149662902702\n",
      "Ttest_indResult(statistic=0.2999974614904025, pvalue=0.4930139720558882)\n",
      "['MRF_WebMercator Projection-Albers Time', 'MRF_WebMercator Projection-WM Time']\n",
      "Mean diff: 0.021460890769958496\n",
      "MAE: 0.034723226547241214\n",
      "RMSE: 0.09753614789100382\n",
      "STDev: 0.09514583707538485\n",
      "Ttest_indResult(statistic=3.1221267419802405, pvalue=0.001996007984031936)\n"
     ]
    },
    {
     "data": {
      "text/plain": [
       "Text(0.5, 0, 'Diff Seconds')"
      ]
     },
     "execution_count": 122,
     "metadata": {},
     "output_type": "execute_result"
    },
    {
     "data": {
      "image/png": "[encoded data removed]",
      "text/plain": [
       "<Figure size 640x480 with 1 Axes>"
      ]
     },
     "metadata": {},
     "output_type": "display_data"
    }
   ],
   "source": [
    "t = pandas.read_csv(exportImageTable)\n",
    "# print(t)\n",
    "plots = []\n",
    "for service_name in list(image_services.keys()):\n",
    "    field_list = []\n",
    "    for projection_name in projections.keys():\n",
    "        field_name = '{} Projection-{} Time'.format(service_name,projection_name)\n",
    "        field_list.append(field_name)\n",
    "    print(field_list)\n",
    "    diff = t[field_list[0]]-t[field_list[1]]\n",
    "    mean = numpy.mean(diff)\n",
    "    mae = numpy.mean(numpy.absolute(diff))\n",
    "    rmse = numpy.sqrt(numpy.mean(numpy.square(diff)))\n",
    "    std = numpy.std(diff)\n",
    "    print('Mean diff:',mean)\n",
    "    print('MAE:',mae)\n",
    "    print('RMSE:',rmse)\n",
    "    print('STDev:',std)\n",
    "    ttest = scipy.stats.ttest_ind(t[field_list[0]], t[field_list[1]], axis=0, equal_var=False, nan_policy='propagate', permutations=500, random_state=None, alternative='two-sided', trim=0)\n",
    "    print(ttest)\n",
    "#     t.plot.scatter(field_list[0],field_list[1],alpha=0.5)\n",
    "    plt.hist(diff,50,alpha=0.5,label=service_name,density=False)\n",
    "plt.legend()\n",
    "plt.xlabel(\"Diff Seconds\", size=12)\n",
    "# plt.xlim(-.5,0.5)\n",
    "#     print(t[field_list])\n",
    "\n",
    "#     plots.append(plt.hist(t[field_list]))\n",
    "    \n",
    "# print(plots)"
   ]
  }
 ],
 "metadata": {
  "kernelspec": {
   "display_name": "Python 3 (ipykernel)",
   "language": "python",
   "name": "python3"
  },
  "language_info": {
   "codemirror_mode": {
    "name": "ipython",
    "version": 3
   },
   "file_extension": ".py",
   "mimetype": "text/x-python",
   "name": "python",
   "nbconvert_exporter": "python",
   "pygments_lexer": "ipython3",
   "version": "3.10.0"
  }
 },
 "nbformat": 4,
 "nbformat_minor": 5
}
